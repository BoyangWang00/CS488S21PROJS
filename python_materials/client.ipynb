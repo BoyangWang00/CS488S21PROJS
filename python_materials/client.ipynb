{
 "cells": [
  {
   "cell_type": "code",
   "execution_count": null,
   "metadata": {},
   "outputs": [
    {
     "name": "stdout",
     "output_type": "stream",
     "text": [
      "Enter the lower case message: ad\n",
      "From server: ('AD', None)\n",
      "Enter the lower case message: ad\n"
     ]
    }
   ],
   "source": [
    "# Import libraries\n",
    "import socket\n",
    "\n",
    "# Create server\n",
    "ServerName = 'localhost'\n",
    "ServerPort = 1200\n",
    "ServerAddress = (ServerName, ServerPort)\n",
    "\n",
    "# Create client socket\n",
    "clientSocket = socket.socket(socket.AF_INET, socket.SOCK_STREAM) # IPv4, TCP socket\n",
    "\n",
    "# Ask for connection to server\n",
    "clientSocket.connect(ServerAddress)\n",
    "\n",
    "# three-way handshake is performed\n",
    "# a TCP connection is established between the client and server.\n",
    "while 1:\n",
    "    \n",
    "    # Create message\n",
    "    message = raw_input('Enter the lower case message: ')\n",
    "\n",
    "    # Send message\n",
    "    clientSocket.send(message)\n",
    "\n",
    "    # Receive from server\n",
    "    modified_sent = clientSocket.recvfrom(2048)\n",
    "\n",
    "    # Print received message\n",
    "    print \"From server:\", modified_sent\n",
    "    \n",
    "    continue\n",
    "\n",
    "# Close connection\n",
    "clientSocket.close()\n",
    "\n"
   ]
  },
  {
   "cell_type": "code",
   "execution_count": null,
   "metadata": {
    "collapsed": true
   },
   "outputs": [],
   "source": []
  }
 ],
 "metadata": {
  "kernelspec": {
   "display_name": "Python 2",
   "language": "python",
   "name": "python2"
  },
  "language_info": {
   "codemirror_mode": {
    "name": "ipython",
    "version": 2
   },
   "file_extension": ".py",
   "mimetype": "text/x-python",
   "name": "python",
   "nbconvert_exporter": "python",
   "pygments_lexer": "ipython2",
   "version": "2.7.13"
  }
 },
 "nbformat": 4,
 "nbformat_minor": 2
}
