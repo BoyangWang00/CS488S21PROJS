{
 "cells": [
  {
   "cell_type": "code",
   "execution_count": null,
   "metadata": {},
   "outputs": [],
   "source": [
    "# Import libraries\n",
    "import socket\n",
    "\n",
    "# Create server\n",
    "ServerName = 'localhost'\n",
    "ServerPort = 1200\n",
    "ServerAddress = (ServerName, ServerPort)\n",
    "\n",
    "# Create client socket\n",
    "clientSocket = socket.socket(socket.AF_INET, socket.SOCK_STREAM) # IPv4, TCP socket\n",
    "\n",
    "# Ask for connection to server\n",
    "clientSocket.connect(ServerAddress)\n",
    "\n",
    "# three-way handshake is performed\n",
    "# a TCP connection is established between the client and server.\n",
    "while 1:\n",
    "    \n",
    "    # Create message\n",
    "    message = input('Enter the lower case message: ')\n",
    "    # Send message\n",
    "    clientSocket.send(message.encode('ascii'))\n",
    "\n",
    "    # Receive from server\n",
    "    modified_sent = clientSocket.recvfrom(2048)\n",
    "\n",
    "    # Print received message\n",
    "    print(\"From server:\", modified_sent)\n",
    "    \n",
    "    continue\n",
    "\n",
    "# Close connection\n",
    "clientSocket.close()\n",
    "\n"
   ]
  },
  {
   "cell_type": "code",
   "execution_count": null,
   "metadata": {},
   "outputs": [],
   "source": []
  }
 ],
 "metadata": {
  "kernelspec": {
   "display_name": "Python 3",
   "language": "python",
   "name": "python3"
  },
  "language_info": {
   "codemirror_mode": {
    "name": "ipython",
    "version": 3
   },
   "file_extension": ".py",
   "mimetype": "text/x-python",
   "name": "python",
   "nbconvert_exporter": "python",
   "pygments_lexer": "ipython3",
   "version": "3.7.8"
  }
 },
 "nbformat": 4,
 "nbformat_minor": 2
}
