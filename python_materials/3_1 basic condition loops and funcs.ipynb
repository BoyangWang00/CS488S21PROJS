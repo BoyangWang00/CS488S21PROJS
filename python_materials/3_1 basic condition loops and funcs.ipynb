{
  "nbformat": 4,
  "nbformat_minor": 0,
  "metadata": {
    "colab": {
      "name": "3-1.ipynb",
      "provenance": []
    },
    "kernelspec": {
      "name": "python3",
      "display_name": "Python 3"
    }
  },
  "cells": [
    {
      "cell_type": "markdown",
      "metadata": {
        "id": "YhrD_hhFj5n2"
      },
      "source": [
        "## Computer Networks and the Internet, Pace University, Spring 2021\n",
        "## Last update: 2.9.2021"
      ]
    },
    {
      "cell_type": "markdown",
      "metadata": {
        "id": "NyFWzOjoj5n9"
      },
      "source": [
        "## Last class:\n",
        "\n",
        "1. Programming language -> Interpreter -> Machine language\n",
        "1. IDLE (editor + interpreter), we will stick to jupyter notesbook for now\n",
        "1. Interactive mode vs. Script mode\n",
        "1. Python3 instead of Python2\n",
        "1. No type in declaration, type conversion on the fly\n",
        "1.` import sys `for command line arguments\n"
      ]
    },
    {
      "cell_type": "markdown",
      "metadata": {
        "id": "fTCRB_Ruj5n-"
      },
      "source": [
        "* print function - prints a textual representation to the console"
      ]
    },
    {
      "cell_type": "code",
      "metadata": {
        "id": "Y718XiZrj5n_"
      },
      "source": [
        ""
      ],
      "execution_count": null,
      "outputs": []
    },
    {
      "cell_type": "code",
      "metadata": {
        "id": "lXFoWaAVj5oA"
      },
      "source": [
        ""
      ],
      "execution_count": null,
      "outputs": []
    },
    {
      "cell_type": "markdown",
      "metadata": {
        "id": "_m3_n3RPn9cf"
      },
      "source": [
        "* How about reading input?"
      ]
    },
    {
      "cell_type": "code",
      "metadata": {
        "colab": {
          "base_uri": "https://localhost:8080/",
          "height": 200
        },
        "id": "W76dyYUXoD9F",
        "outputId": "523d488e-f315-49dc-a9ad-735fd5ac7ff7"
      },
      "source": [
        "m = int(input(\"enter a positive integer \"))\r\n",
        "print(m)"
      ],
      "execution_count": 9,
      "outputs": [
        {
          "output_type": "stream",
          "text": [
            "enter a positive integer a\n"
          ],
          "name": "stdout"
        },
        {
          "output_type": "error",
          "ename": "ValueError",
          "evalue": "ignored",
          "traceback": [
            "\u001b[0;31m---------------------------------------------------------------------------\u001b[0m",
            "\u001b[0;31mValueError\u001b[0m                                Traceback (most recent call last)",
            "\u001b[0;32m<ipython-input-9-e5b97a578a45>\u001b[0m in \u001b[0;36m<module>\u001b[0;34m()\u001b[0m\n\u001b[0;32m----> 1\u001b[0;31m \u001b[0mm\u001b[0m \u001b[0;34m=\u001b[0m \u001b[0mint\u001b[0m\u001b[0;34m(\u001b[0m\u001b[0minput\u001b[0m\u001b[0;34m(\u001b[0m\u001b[0;34m\"enter a positive integer \"\u001b[0m\u001b[0;34m)\u001b[0m\u001b[0;34m)\u001b[0m\u001b[0;34m\u001b[0m\u001b[0;34m\u001b[0m\u001b[0m\n\u001b[0m\u001b[1;32m      2\u001b[0m \u001b[0mprint\u001b[0m\u001b[0;34m(\u001b[0m\u001b[0mm\u001b[0m\u001b[0;34m)\u001b[0m\u001b[0;34m\u001b[0m\u001b[0;34m\u001b[0m\u001b[0m\n",
            "\u001b[0;31mValueError\u001b[0m: invalid literal for int() with base 10: 'a'"
          ]
        }
      ]
    },
    {
      "cell_type": "markdown",
      "metadata": {
        "id": "mfcnc7TOj5oA"
      },
      "source": [
        "###Variables, types"
      ]
    },
    {
      "cell_type": "markdown",
      "metadata": {
        "id": "chsYinDbj5oB"
      },
      "source": [
        "* int - integers: ..., -3, -2, -1, 0, 1, 2, 3, ..."
      ]
    },
    {
      "cell_type": "code",
      "metadata": {
        "id": "6wH7uUSEj5oB"
      },
      "source": [
        ""
      ],
      "execution_count": null,
      "outputs": []
    },
    {
      "cell_type": "code",
      "metadata": {
        "id": "x4cm48ZJj5oC"
      },
      "source": [
        ""
      ],
      "execution_count": null,
      "outputs": []
    },
    {
      "cell_type": "markdown",
      "metadata": {
        "id": "P2P74ebmj5oC"
      },
      "source": [
        "* float - floating point numbers, decimal point fractions: -3.2, 1.5, 1e-8, 3.2e5"
      ]
    },
    {
      "cell_type": "code",
      "metadata": {
        "id": "zjZnkpNlj5oD"
      },
      "source": [
        ""
      ],
      "execution_count": null,
      "outputs": []
    },
    {
      "cell_type": "markdown",
      "metadata": {
        "id": "nivpFqmej5oD"
      },
      "source": [
        "* str - character strings, text: \"intro2CS\", 'python'"
      ]
    },
    {
      "cell_type": "code",
      "metadata": {
        "id": "zVRPr6Vej5oD"
      },
      "source": [
        ""
      ],
      "execution_count": null,
      "outputs": []
    },
    {
      "cell_type": "code",
      "metadata": {
        "id": "J-9wvi4Lj5oD"
      },
      "source": [
        ""
      ],
      "execution_count": null,
      "outputs": []
    },
    {
      "cell_type": "markdown",
      "metadata": {
        "id": "t_TnZB1Sj5oE"
      },
      "source": [
        "* bool - boolean values: True and False"
      ]
    },
    {
      "cell_type": "code",
      "metadata": {
        "id": "Nbm0J5gyj5oE"
      },
      "source": [
        ""
      ],
      "execution_count": null,
      "outputs": []
    },
    {
      "cell_type": "markdown",
      "metadata": {
        "id": "GhmN7LSsj5oE"
      },
      "source": [
        "## Operators"
      ]
    },
    {
      "cell_type": "markdown",
      "metadata": {
        "id": "8QBejY-8j5oF"
      },
      "source": [
        "### Mathematical operators"
      ]
    },
    {
      "cell_type": "markdown",
      "metadata": {
        "id": "qt608Sn-j5oF"
      },
      "source": [
        "Addition:"
      ]
    },
    {
      "cell_type": "code",
      "metadata": {
        "id": "bzDNbaC1j5oF"
      },
      "source": [
        ""
      ],
      "execution_count": null,
      "outputs": []
    },
    {
      "cell_type": "code",
      "metadata": {
        "id": "JE8MPU3ij5oF"
      },
      "source": [
        ""
      ],
      "execution_count": null,
      "outputs": []
    },
    {
      "cell_type": "code",
      "metadata": {
        "id": "l5hrIKHCj5oG"
      },
      "source": [
        ""
      ],
      "execution_count": null,
      "outputs": []
    },
    {
      "cell_type": "markdown",
      "metadata": {
        "id": "U_PHeGHZj5oG"
      },
      "source": [
        "Subtraction:"
      ]
    },
    {
      "cell_type": "code",
      "metadata": {
        "id": "dI8fDROzj5oG"
      },
      "source": [
        ""
      ],
      "execution_count": null,
      "outputs": []
    },
    {
      "cell_type": "markdown",
      "metadata": {
        "id": "STulJz9xj5oG"
      },
      "source": [
        "Multiplication:"
      ]
    },
    {
      "cell_type": "code",
      "metadata": {
        "id": "6IipYZkij5oH"
      },
      "source": [
        ""
      ],
      "execution_count": null,
      "outputs": []
    },
    {
      "cell_type": "markdown",
      "metadata": {
        "id": "tRI2PyZOj5oH"
      },
      "source": [
        "Division - float and integral with / and //:"
      ]
    },
    {
      "cell_type": "code",
      "metadata": {
        "id": "n2kjIwFej5oH"
      },
      "source": [
        ""
      ],
      "execution_count": null,
      "outputs": []
    },
    {
      "cell_type": "markdown",
      "metadata": {
        "id": "uCXN6uKQj5oH"
      },
      "source": [
        "Power:"
      ]
    },
    {
      "cell_type": "code",
      "metadata": {
        "id": "8XA4n2afj5oH"
      },
      "source": [
        ""
      ],
      "execution_count": null,
      "outputs": []
    },
    {
      "cell_type": "markdown",
      "metadata": {
        "id": "NMAttXt2j5oI"
      },
      "source": [
        "Modolu:"
      ]
    },
    {
      "cell_type": "code",
      "metadata": {
        "id": "F1VGV5Jgj5oI"
      },
      "source": [
        ""
      ],
      "execution_count": null,
      "outputs": []
    },
    {
      "cell_type": "markdown",
      "metadata": {
        "id": "JvLju325j5oI"
      },
      "source": [
        "### String operators"
      ]
    },
    {
      "cell_type": "markdown",
      "metadata": {
        "id": "422YY4eHj5oI"
      },
      "source": [
        "String concatenation using +:"
      ]
    },
    {
      "cell_type": "code",
      "metadata": {
        "id": "8X28u9Goj5oJ"
      },
      "source": [
        ""
      ],
      "execution_count": null,
      "outputs": []
    },
    {
      "cell_type": "markdown",
      "metadata": {
        "id": "PTo4CnOFj5oJ"
      },
      "source": [
        "String duplication using *:"
      ]
    },
    {
      "cell_type": "code",
      "metadata": {
        "id": "Zu62mwj4j5oJ"
      },
      "source": [
        ""
      ],
      "execution_count": null,
      "outputs": []
    },
    {
      "cell_type": "markdown",
      "metadata": {
        "id": "ZLW-b1Vkj5oJ"
      },
      "source": [
        "Strings vs. numbers:"
      ]
    },
    {
      "cell_type": "code",
      "metadata": {
        "id": "A2YJvIp5j5oJ"
      },
      "source": [
        ""
      ],
      "execution_count": null,
      "outputs": []
    },
    {
      "cell_type": "code",
      "metadata": {
        "id": "uBh9AUBaj5oK"
      },
      "source": [
        ""
      ],
      "execution_count": null,
      "outputs": []
    },
    {
      "cell_type": "code",
      "metadata": {
        "id": "h4Jdy3SIj5oK"
      },
      "source": [
        ""
      ],
      "execution_count": null,
      "outputs": []
    },
    {
      "cell_type": "code",
      "metadata": {
        "id": "_B6_98s5j5oK"
      },
      "source": [
        ""
      ],
      "execution_count": null,
      "outputs": []
    },
    {
      "cell_type": "markdown",
      "metadata": {
        "id": "UESrbKFbj5oK"
      },
      "source": [
        "### Comparisons"
      ]
    },
    {
      "cell_type": "code",
      "metadata": {
        "id": "RCIYPLjbj5oL"
      },
      "source": [
        ""
      ],
      "execution_count": null,
      "outputs": []
    },
    {
      "cell_type": "code",
      "metadata": {
        "id": "13DdkRIqj5oL"
      },
      "source": [
        ""
      ],
      "execution_count": null,
      "outputs": []
    },
    {
      "cell_type": "code",
      "metadata": {
        "id": "djXSCW8jj5oL"
      },
      "source": [
        ""
      ],
      "execution_count": null,
      "outputs": []
    },
    {
      "cell_type": "code",
      "metadata": {
        "id": "0o6s93_Gj5oL"
      },
      "source": [
        ""
      ],
      "execution_count": null,
      "outputs": []
    },
    {
      "cell_type": "code",
      "metadata": {
        "id": "-F6rhr4yj5oL"
      },
      "source": [
        ""
      ],
      "execution_count": null,
      "outputs": []
    },
    {
      "cell_type": "code",
      "metadata": {
        "id": "hh0K_u6Pj5oM"
      },
      "source": [
        ""
      ],
      "execution_count": null,
      "outputs": []
    },
    {
      "cell_type": "code",
      "metadata": {
        "id": "PMmDD0nrj5oM"
      },
      "source": [
        ""
      ],
      "execution_count": null,
      "outputs": []
    },
    {
      "cell_type": "code",
      "metadata": {
        "id": "Ho0Zhdigj5oM"
      },
      "source": [
        ""
      ],
      "execution_count": null,
      "outputs": []
    },
    {
      "cell_type": "code",
      "metadata": {
        "id": "Ga7woZufj5oM",
        "outputId": "0dd0303d-da3c-4c6e-ab47-ac192ff8a366"
      },
      "source": [
        ""
      ],
      "execution_count": null,
      "outputs": [
        {
          "output_type": "execute_result",
          "data": {},
          "metadata": {
            "tags": []
          },
          "execution_count": 70
        }
      ]
    },
    {
      "cell_type": "code",
      "metadata": {
        "id": "oaPNm6Kpj5oN"
      },
      "source": [
        ""
      ],
      "execution_count": null,
      "outputs": []
    },
    {
      "cell_type": "code",
      "metadata": {
        "id": "vqRqdzuFj5oN"
      },
      "source": [
        ""
      ],
      "execution_count": null,
      "outputs": []
    },
    {
      "cell_type": "code",
      "metadata": {
        "id": "aBYyJZodj5oN"
      },
      "source": [
        ""
      ],
      "execution_count": null,
      "outputs": []
    },
    {
      "cell_type": "markdown",
      "metadata": {
        "id": "rjP8Q2bjj5oN"
      },
      "source": [
        "### Logical operators"
      ]
    },
    {
      "cell_type": "markdown",
      "metadata": {
        "id": "CaggIpaJj5oO"
      },
      "source": [
        "* not:"
      ]
    },
    {
      "cell_type": "code",
      "metadata": {
        "id": "XsXPgmVkj5oO"
      },
      "source": [
        ""
      ],
      "execution_count": null,
      "outputs": []
    },
    {
      "cell_type": "markdown",
      "metadata": {
        "id": "mxRaK9gaj5oO"
      },
      "source": [
        "* and:"
      ]
    },
    {
      "cell_type": "code",
      "metadata": {
        "id": "9DamX5X4j5oO"
      },
      "source": [
        ""
      ],
      "execution_count": null,
      "outputs": []
    },
    {
      "cell_type": "code",
      "metadata": {
        "id": "kwtZ8PJgj5oO"
      },
      "source": [
        ""
      ],
      "execution_count": null,
      "outputs": []
    },
    {
      "cell_type": "code",
      "metadata": {
        "id": "ix3rEcQrj5oP"
      },
      "source": [
        ""
      ],
      "execution_count": null,
      "outputs": []
    },
    {
      "cell_type": "markdown",
      "metadata": {
        "id": "lZz649J_j5oP"
      },
      "source": [
        "* or:"
      ]
    },
    {
      "cell_type": "code",
      "metadata": {
        "id": "Krr8rstmj5oP"
      },
      "source": [
        ""
      ],
      "execution_count": null,
      "outputs": []
    },
    {
      "cell_type": "code",
      "metadata": {
        "id": "jH-PqZ-Kj5oP"
      },
      "source": [
        ""
      ],
      "execution_count": null,
      "outputs": []
    },
    {
      "cell_type": "markdown",
      "metadata": {
        "id": "OCtr8yXCj5oP"
      },
      "source": [
        "## Conversions"
      ]
    },
    {
      "cell_type": "markdown",
      "metadata": {
        "id": "A_h3dBNrj5oQ"
      },
      "source": [
        "Use the functions `int()`, `float()`, and `str()` to convert between types (we will talk about *functions* next time):"
      ]
    },
    {
      "cell_type": "code",
      "metadata": {
        "id": "36JMH80Sj5oQ"
      },
      "source": [
        ""
      ],
      "execution_count": null,
      "outputs": []
    },
    {
      "cell_type": "code",
      "metadata": {
        "id": "SGeAAh0Hj5oQ"
      },
      "source": [
        ""
      ],
      "execution_count": null,
      "outputs": []
    },
    {
      "cell_type": "code",
      "metadata": {
        "id": "W7go6_CRj5oR"
      },
      "source": [
        ""
      ],
      "execution_count": null,
      "outputs": []
    },
    {
      "cell_type": "code",
      "metadata": {
        "id": "zL4PNo7Pj5oR"
      },
      "source": [
        ""
      ],
      "execution_count": null,
      "outputs": []
    },
    {
      "cell_type": "code",
      "metadata": {
        "id": "4VPmmkvfj5oS"
      },
      "source": [
        ""
      ],
      "execution_count": null,
      "outputs": []
    },
    {
      "cell_type": "markdown",
      "metadata": {
        "id": "r07mN9Kwj5oS"
      },
      "source": [
        "## Flow control"
      ]
    },
    {
      "cell_type": "markdown",
      "metadata": {
        "id": "CbHVYiTzj5oS"
      },
      "source": [
        "### Conditional statements"
      ]
    },
    {
      "cell_type": "markdown",
      "metadata": {
        "id": "M1-_2hJsj5oS"
      },
      "source": [
        "The `if` condition formula - replace conditions and statements with meaningful code:\n",
        "\n",
        "    if *condition*:\n",
        "        *statement*\n",
        "        *statement*\n",
        "        ...\n",
        "    elif *condition*: # 0 or more elif clauses\n",
        "        *statement*\n",
        "        *statement*\n",
        "        ...    \n",
        "    else:             # optional\n",
        "        *statement*\n",
        "        *statement*\n",
        "\n",
        "Example:"
      ]
    },
    {
      "cell_type": "code",
      "metadata": {
        "id": "1-aasBKHj5oS"
      },
      "source": [
        ""
      ],
      "execution_count": null,
      "outputs": []
    },
    {
      "cell_type": "markdown",
      "metadata": {
        "id": "jvZt3Vu0j5oT"
      },
      "source": [
        "### Loops"
      ]
    },
    {
      "cell_type": "markdown",
      "metadata": {
        "id": "jLWROAIcj5oT"
      },
      "source": [
        "* While:"
      ]
    },
    {
      "cell_type": "markdown",
      "metadata": {
        "id": "ZeQjCZgKj5oT"
      },
      "source": [
        "    while *condition*:\n",
        "        *statement*\n",
        "        *statement*\n",
        "\n",
        "Example - count how many times 0 appears in an integer number:"
      ]
    },
    {
      "cell_type": "code",
      "metadata": {
        "id": "wI2JDgwej5oU"
      },
      "source": [
        ""
      ],
      "execution_count": null,
      "outputs": []
    },
    {
      "cell_type": "code",
      "metadata": {
        "id": "iNH8r8A5j5oU"
      },
      "source": [
        ""
      ],
      "execution_count": null,
      "outputs": []
    },
    {
      "cell_type": "markdown",
      "metadata": {
        "id": "JPvcCAAxj5oU"
      },
      "source": [
        "* For:"
      ]
    },
    {
      "cell_type": "markdown",
      "metadata": {
        "id": "n0q1EpLbj5oV"
      },
      "source": [
        "    for *variable* in *iterable*:\n",
        "        *statement*\n",
        "        *statement*\n",
        "\n",
        "Example - solve the same problem with a `str` type instead of `int`:"
      ]
    },
    {
      "cell_type": "code",
      "metadata": {
        "id": "Csg1OlCzj5oV"
      },
      "source": [
        ""
      ],
      "execution_count": null,
      "outputs": []
    },
    {
      "cell_type": "markdown",
      "metadata": {
        "id": "g9aDlLQ7j5oV"
      },
      "source": [
        "Builtin solution:"
      ]
    },
    {
      "cell_type": "code",
      "metadata": {
        "id": "v5g_eo2Ij5oV"
      },
      "source": [
        ""
      ],
      "execution_count": null,
      "outputs": []
    },
    {
      "cell_type": "markdown",
      "metadata": {
        "id": "Vw9kYfGaj5oW"
      },
      "source": [
        "### Efficiency"
      ]
    },
    {
      "cell_type": "markdown",
      "metadata": {
        "id": "eRN-PSKjj5oW"
      },
      "source": [
        "We can measure which solution is faster:"
      ]
    },
    {
      "cell_type": "code",
      "metadata": {
        "id": "55jJ7PUdj5oW"
      },
      "source": [
        ""
      ],
      "execution_count": null,
      "outputs": []
    },
    {
      "cell_type": "code",
      "metadata": {
        "id": "cXpM_Xpbj5oW"
      },
      "source": [
        ""
      ],
      "execution_count": null,
      "outputs": []
    },
    {
      "cell_type": "code",
      "metadata": {
        "id": "vxqtC0_5j5oW"
      },
      "source": [
        ""
      ],
      "execution_count": null,
      "outputs": []
    },
    {
      "cell_type": "markdown",
      "metadata": {
        "id": "qTEvznxCj5oX"
      },
      "source": [
        "The builtin solution is 4 times faster than the `for` solution which is 3 times faster than the `while` solution."
      ]
    },
    {
      "cell_type": "markdown",
      "metadata": {
        "id": "hxyNYDfRj5oX"
      },
      "source": [
        "### Other notes"
      ]
    },
    {
      "cell_type": "markdown",
      "metadata": {
        "id": "VocwueEOj5oX"
      },
      "source": [
        "* The `while` solution will not work for `num <= 0`\n",
        "* The `while` solution will not work for non-numerals (e.g, `num = \"Cola 0 is awesome!\"`)\n",
        "* The builtin solution is implemented with C and that is why it is faster"
      ]
    },
    {
      "cell_type": "markdown",
      "metadata": {
        "id": "vXxWaz1Ho5Q9"
      },
      "source": [
        ""
      ]
    },
    {
      "cell_type": "markdown",
      "metadata": {
        "id": "MCfg0w0docIt"
      },
      "source": [
        "# Exercise: Collatz Conjecture\r\n",
        "\r\n",
        "* The [Collatz Conjecture](http://en.wikipedia.org/wiki/Collatz_conjecture) (also known as the *3n+1* conjecture) is the conjecture that the following process is finite for every natural number:\r\n",
        "> If the number $n$ is even divide it by two ($n/2$), if it is odd multiply it by 3 and add 1 ($3n+1$). Repeat this process untill you get the number 1.\r\n",
        "\r\n",
        "\r\n",
        "\r\n"
      ]
    },
    {
      "cell_type": "markdown",
      "metadata": {
        "id": "5koLxNtzoysp"
      },
      "source": [
        "\r\n",
        "## Implementation\r\n",
        "We start with the \"Half Or Triple Plus One\" process:"
      ]
    },
    {
      "cell_type": "code",
      "metadata": {
        "id": "dFAI1hC4pFA1"
      },
      "source": [
        ""
      ],
      "execution_count": null,
      "outputs": []
    },
    {
      "cell_type": "markdown",
      "metadata": {
        "id": "ezkA6RabpFkc"
      },
      "source": [
        "## Next \r\n",
        "we add another loop that will run the conjecture check on a range of numbers:"
      ]
    },
    {
      "cell_type": "code",
      "metadata": {
        "id": "fnyeKb2ApUDG"
      },
      "source": [
        ""
      ],
      "execution_count": null,
      "outputs": []
    },
    {
      "cell_type": "markdown",
      "metadata": {
        "id": "FtdmIjWYpTus"
      },
      "source": [
        "`range` is a good friend with `for` loop"
      ]
    },
    {
      "cell_type": "code",
      "metadata": {
        "id": "bg2OZhrlpF8R"
      },
      "source": [
        ""
      ],
      "execution_count": null,
      "outputs": []
    },
    {
      "cell_type": "markdown",
      "metadata": {
        "id": "RPdi26IFqQC5"
      },
      "source": [
        "# Lists\r\n",
        "\r\n",
        "* Lists are sequences of values. \r\n",
        "* Lists can contain a mix of types:"
      ]
    },
    {
      "cell_type": "code",
      "metadata": {
        "id": "-ieTVEp4qVNS"
      },
      "source": [
        ""
      ],
      "execution_count": null,
      "outputs": []
    },
    {
      "cell_type": "markdown",
      "metadata": {
        "id": "4U-ExGS7qYrd"
      },
      "source": [
        "Lists are indexable, starting at 0:"
      ]
    },
    {
      "cell_type": "code",
      "metadata": {
        "id": "y4CcgU08qZX9"
      },
      "source": [
        ""
      ],
      "execution_count": null,
      "outputs": []
    },
    {
      "cell_type": "markdown",
      "metadata": {
        "id": "9HOG6m5Pqe51"
      },
      "source": [
        "Negative indices are counted from the tail:"
      ]
    },
    {
      "cell_type": "code",
      "metadata": {
        "id": "JvrWn7Qqqfxm"
      },
      "source": [
        ""
      ],
      "execution_count": null,
      "outputs": []
    },
    {
      "cell_type": "code",
      "metadata": {
        "id": "4JZ71Xh5qjpV"
      },
      "source": [
        ""
      ],
      "execution_count": null,
      "outputs": []
    },
    {
      "cell_type": "markdown",
      "metadata": {
        "id": "_WhqBEUJqkMf"
      },
      "source": [
        "Lists can be sliced:"
      ]
    },
    {
      "cell_type": "code",
      "metadata": {
        "id": "vqi-LmUoqnn6"
      },
      "source": [
        ""
      ],
      "execution_count": null,
      "outputs": []
    },
    {
      "cell_type": "code",
      "metadata": {
        "id": "Un21Eqp1qn3r"
      },
      "source": [
        ""
      ],
      "execution_count": null,
      "outputs": []
    },
    {
      "cell_type": "code",
      "metadata": {
        "id": "HRCnZkBBqq5d"
      },
      "source": [
        ""
      ],
      "execution_count": null,
      "outputs": []
    },
    {
      "cell_type": "code",
      "metadata": {
        "id": "UqluQKXbqrEL"
      },
      "source": [
        ""
      ],
      "execution_count": null,
      "outputs": []
    },
    {
      "cell_type": "code",
      "metadata": {
        "id": "ysrOz-yZqrPh"
      },
      "source": [
        ""
      ],
      "execution_count": null,
      "outputs": []
    },
    {
      "cell_type": "code",
      "metadata": {
        "id": "nH6SePjvqrZN"
      },
      "source": [
        ""
      ],
      "execution_count": null,
      "outputs": []
    },
    {
      "cell_type": "code",
      "metadata": {
        "id": "F45wqAJQqrkP"
      },
      "source": [
        ""
      ],
      "execution_count": null,
      "outputs": []
    },
    {
      "cell_type": "markdown",
      "metadata": {
        "id": "qK9-Knc2qsPO"
      },
      "source": [
        "Lists can be concatenated"
      ]
    },
    {
      "cell_type": "code",
      "metadata": {
        "id": "nJPkR5w9quyy"
      },
      "source": [
        ""
      ],
      "execution_count": null,
      "outputs": []
    },
    {
      "cell_type": "code",
      "metadata": {
        "id": "pDe2fkwhqu_y"
      },
      "source": [
        ""
      ],
      "execution_count": null,
      "outputs": []
    },
    {
      "cell_type": "code",
      "metadata": {
        "id": "yz0GgcClqvLC"
      },
      "source": [
        ""
      ],
      "execution_count": null,
      "outputs": []
    },
    {
      "cell_type": "markdown",
      "metadata": {
        "id": "YHwvz1Nqq0HL"
      },
      "source": [
        "Lists have a rich set of functions"
      ]
    },
    {
      "cell_type": "code",
      "metadata": {
        "id": "SHM646hPrLmE"
      },
      "source": [
        ""
      ],
      "execution_count": null,
      "outputs": []
    },
    {
      "cell_type": "code",
      "metadata": {
        "id": "HzXYhz1trLw7"
      },
      "source": [
        ""
      ],
      "execution_count": null,
      "outputs": []
    },
    {
      "cell_type": "code",
      "metadata": {
        "id": "5QSZmSlyrL6S"
      },
      "source": [
        ""
      ],
      "execution_count": null,
      "outputs": []
    },
    {
      "cell_type": "markdown",
      "metadata": {
        "id": "yAT9g6VErMNG"
      },
      "source": [
        "Lists are iterable"
      ]
    },
    {
      "cell_type": "code",
      "metadata": {
        "id": "cRIGGJ8srOLj"
      },
      "source": [
        ""
      ],
      "execution_count": null,
      "outputs": []
    },
    {
      "cell_type": "code",
      "metadata": {
        "id": "kr1-uIKzrOZ0"
      },
      "source": [
        ""
      ],
      "execution_count": null,
      "outputs": []
    },
    {
      "cell_type": "code",
      "metadata": {
        "id": "F-yzEbLmrSjH"
      },
      "source": [
        ""
      ],
      "execution_count": null,
      "outputs": []
    },
    {
      "cell_type": "code",
      "metadata": {
        "id": "Ucd2tynJr25w"
      },
      "source": [
        ""
      ],
      "execution_count": null,
      "outputs": []
    },
    {
      "cell_type": "code",
      "metadata": {
        "id": "JmC_xu_lrSsR"
      },
      "source": [
        ""
      ],
      "execution_count": null,
      "outputs": []
    },
    {
      "cell_type": "code",
      "metadata": {
        "id": "1Njn9EYHrS1G"
      },
      "source": [
        ""
      ],
      "execution_count": null,
      "outputs": []
    },
    {
      "cell_type": "code",
      "metadata": {
        "id": "iUOoiN0-rS9P"
      },
      "source": [
        ""
      ],
      "execution_count": null,
      "outputs": []
    },
    {
      "cell_type": "markdown",
      "metadata": {
        "id": "ti7qxChirTh_"
      },
      "source": [
        "**NEW**\r\n",
        "###A list of numbers can be created using list comprehension. The syntax is:\r\n",
        "\r\n",
        "[**expression** for **variable** in **iterable** if **condition**] \r\n",
        "\r\n",
        "The if **condition** part is optional, the statement and the condition can use variable.\r\n",
        "\r\n",
        "Example: Create a list of the squares of numbers between 1 and 10:"
      ]
    },
    {
      "cell_type": "code",
      "metadata": {
        "id": "JYmPK0SErjGv"
      },
      "source": [
        ""
      ],
      "execution_count": null,
      "outputs": []
    },
    {
      "cell_type": "markdown",
      "metadata": {
        "id": "QTLK86D-rpBT"
      },
      "source": [
        "Try: Create a list of the square roots of odd numbers between 1 and 20:"
      ]
    },
    {
      "cell_type": "code",
      "metadata": {
        "id": "HKTcAo2CrspV"
      },
      "source": [
        ""
      ],
      "execution_count": null,
      "outputs": []
    },
    {
      "cell_type": "markdown",
      "metadata": {
        "id": "RgbYW6jzuCTE"
      },
      "source": [
        "#Exericse:  Grades problem\r\n",
        "\r\n",
        "Given a list of grades, count how many are above the average."
      ]
    },
    {
      "cell_type": "code",
      "metadata": {
        "id": "54fWPS5SuLdK"
      },
      "source": [
        "grades = [33, 55,45,87,88,95,34,76,87,56,45,98,87,89,45,67,45,67,76,73,33,87,12,100,77,89,92]"
      ],
      "execution_count": null,
      "outputs": []
    },
    {
      "cell_type": "markdown",
      "metadata": {
        "id": "wPu1gIlKuWE5"
      },
      "source": [
        "Use `for` loop\r\n"
      ]
    },
    {
      "cell_type": "code",
      "metadata": {
        "id": "zoZ_elC6uPT2"
      },
      "source": [
        ""
      ],
      "execution_count": null,
      "outputs": []
    },
    {
      "cell_type": "markdown",
      "metadata": {
        "id": "DWhBZpr4uY05"
      },
      "source": [
        "How about trying **list comprehension**?"
      ]
    },
    {
      "cell_type": "code",
      "metadata": {
        "id": "OMOLlPthudQ8"
      },
      "source": [
        ""
      ],
      "execution_count": null,
      "outputs": []
    },
    {
      "cell_type": "markdown",
      "metadata": {
        "id": "rMxHoOIUujnX"
      },
      "source": [
        "#Functions!\r\n",
        "## extremly simple syntax\r\n",
        "`def func_name(list of params):`\r\n",
        "  "
      ]
    },
    {
      "cell_type": "code",
      "metadata": {
        "id": "lawJmiWCvBEU"
      },
      "source": [
        ""
      ],
      "execution_count": null,
      "outputs": []
    },
    {
      "cell_type": "code",
      "metadata": {
        "id": "UxH8csHsvBQ9"
      },
      "source": [
        ""
      ],
      "execution_count": null,
      "outputs": []
    },
    {
      "cell_type": "code",
      "metadata": {
        "id": "Kz0g-L-bvBbQ"
      },
      "source": [
        ""
      ],
      "execution_count": null,
      "outputs": []
    },
    {
      "cell_type": "markdown",
      "metadata": {
        "id": "FuoSEbOMj5oX"
      },
      "source": [
        "##Credits:\n",
        "\n",
        "This notebook is part of the [Extended introduction to computer science](http://tau-cs1001-py.wikidot.com/) course at Tel-Aviv University.\n",
        "\n",
        "The notebook was written using Python 3.2 and IPython 0.13.1.\n",
        "\n",
        "This work is licensed under a [Creative Commons Attribution-ShareAlike 3.0 Unported License](http://creativecommons.org/licenses/by-sa/3.0/)."
      ]
    }
  ]
}