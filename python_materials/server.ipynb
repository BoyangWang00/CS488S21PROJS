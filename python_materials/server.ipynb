{
 "cells": [
  {
   "cell_type": "code",
   "execution_count": null,
   "metadata": {},
   "outputs": [],
   "source": [
    "# Import socket library\n",
    "import socket\n",
    "\n",
    "# Create server\n",
    "serverPort = 1200\n",
    "ServerName = 'localhost'\n",
    "ServerAddress = (ServerName, serverPort)\n",
    "\n",
    "# Create server socket\n",
    "serverSocket = socket.socket(socket.AF_INET, socket.SOCK_STREAM)\n",
    "\n",
    "# Associate server port number with the socket\n",
    "serverSocket.bind(ServerAddress)\n",
    "\n",
    "# wait for some client to knock on the door\n",
    "serverSocket.listen(1) # maximum number of queued connections (atleast 1)\n",
    "\n",
    "print('The server is ready to listen')\n",
    "# Create connection socket\n",
    "connection_socket, addr = serverSocket.accept()\n",
    "while 1:\n",
    "    # Receive message from client\n",
    "    message = connection_socket.recv(2048)\n",
    "    \n",
    "    # Modify the message\n",
    "    modified_message = message.upper()\n",
    "    \n",
    "    # Send the modified message\n",
    "    connection_socket.send(modified_message)\n",
    "    print(\"Reply sent\",addr)\n",
    "# Close communication with client\n",
    "connection_socket.close()\n"
   ]
  },
  {
   "cell_type": "code",
   "execution_count": null,
   "metadata": {},
   "outputs": [],
   "source": []
  }
 ],
 "metadata": {
  "kernelspec": {
   "display_name": "Python 3",
   "language": "python",
   "name": "python3"
  },
  "language_info": {
   "codemirror_mode": {
    "name": "ipython",
    "version": 3
   },
   "file_extension": ".py",
   "mimetype": "text/x-python",
   "name": "python",
   "nbconvert_exporter": "python",
   "pygments_lexer": "ipython3",
   "version": "3.7.8"
  }
 },
 "nbformat": 4,
 "nbformat_minor": 2
}
