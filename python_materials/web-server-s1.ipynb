{
 "cells": [
  {
   "cell_type": "code",
   "execution_count": null,
   "metadata": {},
   "outputs": [
    {
     "name": "stdout",
     "output_type": "stream",
     "text": [
      "Serving HTTP on port 1234 ...\n",
      "GET / HTTP/1.1\n",
      "User-Agent: Wget/1.19.4 (linux-gnu)\n",
      "Accept: */*\n",
      "Accept-Encoding: identity\n",
      "Host: 127.0.0.1:1234\n",
      "Connection: Keep-Alive\n",
      "\n",
      "\n"
     ]
    }
   ],
   "source": [
    "# Python3.7+\n",
    "import socket\n",
    "\n",
    "HOST, PORT = '', 1234\n",
    "\n",
    "listen_socket = socket.socket(socket.AF_INET, socket.SOCK_STREAM)\n",
    "listen_socket.setsockopt(socket.SOL_SOCKET, socket.SO_REUSEADDR, 1)\n",
    "listen_socket.bind((HOST, PORT))\n",
    "listen_socket.listen(1)\n",
    "print(f'Serving HTTP on port {PORT} ...')\n",
    "while True:\n",
    "    client_connection, client_address = listen_socket.accept()\n",
    "    request_data = client_connection.recv(1024)\n",
    "    print(request_data.decode('utf-8'))\n",
    "\n",
    "    http_response = b\"\"\"\\\n",
    "HTTP/1.1 200 OK\n",
    "\n",
    "Hello, World!\n",
    "\"\"\"\n",
    "    client_connection.sendall(http_response)\n",
    "    client_connection.close()"
   ]
  }
 ],
 "metadata": {
  "kernelspec": {
   "display_name": "Python 3",
   "language": "python",
   "name": "python3"
  },
  "language_info": {
   "codemirror_mode": {
    "name": "ipython",
    "version": 3
   },
   "file_extension": ".py",
   "mimetype": "text/x-python",
   "name": "python",
   "nbconvert_exporter": "python",
   "pygments_lexer": "ipython3",
   "version": "3.7.8"
  }
 },
 "nbformat": 4,
 "nbformat_minor": 4
}
